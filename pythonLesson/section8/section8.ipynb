{
 "metadata": {
  "language_info": {
   "codemirror_mode": {
    "name": "ipython",
    "version": 3
   },
   "file_extension": ".py",
   "mimetype": "text/x-python",
   "name": "python",
   "nbconvert_exporter": "python",
   "pygments_lexer": "ipython3",
   "version": "3.7.5-final"
  },
  "orig_nbformat": 2,
  "kernelspec": {
   "name": "python_defaultSpec_1598747477322",
   "display_name": "Python 3.7.5 64-bit ('3.7.5': pyenv)"
  }
 },
 "nbformat": 4,
 "nbformat_minor": 2,
 "cells": [
  {
   "cell_type": "markdown",
   "metadata": {},
   "source": [
    "# section8: ファイル操作とシステム"
   ]
  },
  {
   "cell_type": "markdown",
   "metadata": {},
   "source": [
    "91.ファイルの作成"
   ]
  },
  {
   "cell_type": "code",
   "execution_count": 10,
   "metadata": {},
   "outputs": [],
   "source": [
    "f = open('test.txt', 'w') #書き込み　上書きで書き込む\n",
    "f.write('Test\\n')\n",
    "print('My', 'Name', 'is', 'Mike',sep='#', end='!',file=f) \n",
    "# printで出力をfileで指定できるがあまり使われていない\n",
    "f.close()\n"
   ]
  },
  {
   "cell_type": "code",
   "execution_count": 4,
   "metadata": {},
   "outputs": [],
   "source": [
    "f = open('test.txt', 'a') # 文字列の追加\n",
    "f.write('Test')\n",
    "f.close()\n"
   ]
  },
  {
   "cell_type": "markdown",
   "metadata": {},
   "source": [
    "92.withステートメントでファイルをオープンする"
   ]
  },
  {
   "cell_type": "code",
   "execution_count": 13,
   "metadata": {},
   "outputs": [],
   "source": [
    "# f = open('test.txt', 'w') #オープンするとメモリを食う\n",
    "\n",
    "with open('test2.txt', 'w') as f: #インデント内の処理が終わったらf.close()される.よく使う.\n",
    "    f.write('Test\\n')"
   ]
  },
  {
   "cell_type": "markdown",
   "metadata": {},
   "source": [
    "93.ファイルの読み込み"
   ]
  },
  {
   "cell_type": "code",
   "execution_count": 16,
   "metadata": {},
   "outputs": [],
   "source": [
    "s = \"\"\"\n",
    "AAAA\n",
    "BBBB\n",
    "CCCC\n",
    "DDDD\n",
    "\"\"\"\n",
    "\n",
    "with open('test.txt', 'w') as f:\n",
    "    f.write(s)"
   ]
  },
  {
   "cell_type": "code",
   "execution_count": 23,
   "metadata": {
    "tags": []
   },
   "outputs": [
    {
     "output_type": "stream",
     "name": "stdout",
     "text": "\n\nAA\nAA\n\n\nBB\nBB\n\n\nCC\nCC\n\n\nDD\nDD\n\n\n\n"
    }
   ],
   "source": [
    "# with open('test.txt', 'r') as f:\n",
    "#     # print(f.read())\n",
    "#     while True:\n",
    "#         line = f.readline()\n",
    "#         print(line, end='') #自動で改行が入るが、endで指定で改行をなくせる\n",
    "#         if not line:\n",
    "#             break\n",
    "\n",
    "\n",
    "with open('test.txt', 'r') as f:\n",
    "    # print(f.read())\n",
    "    while True:\n",
    "        chunk = 2 #chunkごとに呼び出すことも可能。ネットワークのパケットを読み込む時に使える。\n",
    "        line = f.readline(chunk)\n",
    "        print(line)\n",
    "        if not line:\n",
    "            break"
   ]
  },
  {
   "cell_type": "markdown",
   "metadata": {},
   "source": [
    "\n",
    "94.seekを使って移動する"
   ]
  },
  {
   "cell_type": "code",
   "execution_count": 31,
   "metadata": {
    "tags": []
   },
   "outputs": [
    {
     "output_type": "stream",
     "name": "stdout",
     "text": "0\n\n\n\n\nC\nDDDD\n\n\n\n\n"
    }
   ],
   "source": [
    "# seekで読み込む位置を変えられる\n",
    "\n",
    "with open('test.txt', 'r') as f:\n",
    "    print(f.tell()) #一番初めにいる位置\n",
    "    print(f.read(1))\n",
    "    f.seek(5)\n",
    "    print(f.read(1))\n",
    "    f.seek(14)\n",
    "    print(f.read(15))\n",
    "    print(f.read(1))\n",
    "    f.seek(5)\n",
    "    print(f.read(1))"
   ]
  },
  {
   "cell_type": "markdown",
   "metadata": {},
   "source": [
    "95.書き込み読み込みモード"
   ]
  },
  {
   "cell_type": "code",
   "execution_count": 35,
   "metadata": {
    "tags": []
   },
   "outputs": [
    {
     "output_type": "stream",
     "name": "stdout",
     "text": "\nAAAA\nBBBB\nCCCC\nDDDD\n\n"
    }
   ],
   "source": [
    "s = \"\"\"\n",
    "AAAA\n",
    "BBBB\n",
    "CCCC\n",
    "DDDD\n",
    "\"\"\"\n",
    "\n",
    "with open('test.txt', 'w+') as f:# 読み込み書き込みができるがwで開くので白紙で上書きされる\n",
    "    f.write(s)\n",
    "    f.seek(0) #書き込んだ時最後のところにいるから最初に戻る\n",
    "    print(f.read())\n",
    "\n",
    "# with open('test.txt', 'r') as f:\n",
    "#     print(f.read())\n",
    "\n",
    "\n"
   ]
  },
  {
   "cell_type": "code",
   "execution_count": 36,
   "metadata": {
    "tags": []
   },
   "outputs": [
    {
     "output_type": "stream",
     "name": "stdout",
     "text": "\nAAAA\nBBBB\nCCCC\nDDDD\n\n"
    }
   ],
   "source": [
    "with open('test.txt', 'r+') as f:# test.txtがないと読み込めないのでインデント内が処理できない\n",
    "    print(f.read())\n",
    "    f.seek(0) #書き込んだ時最後のところにいるから最初に戻る\n",
    "    f.write(s)"
   ]
  },
  {
   "cell_type": "markdown",
   "metadata": {},
   "source": [
    "96.テンプレート"
   ]
  },
  {
   "cell_type": "code",
   "execution_count": 42,
   "metadata": {
    "tags": []
   },
   "outputs": [
    {
     "output_type": "stream",
     "name": "stdout",
     "text": "\nHi Mike.\n\nHow are you?\n\nHave a good day\n\n"
    }
   ],
   "source": [
    "import string\n",
    "\n",
    "s = \"\"\"\n",
    "Hi $name.\n",
    "\n",
    "$contents\n",
    "\n",
    "Have a good day\n",
    "\"\"\"\n",
    "\n",
    "# テンプレートの$のところに文字を代入できる\n",
    "# sを直接扱わないことで内容を壊さなくて済む\n",
    "# デザイナーチームにビジュアル系統の操作だけして欲しい時\n",
    "\n",
    "t = string.Template(s)\n",
    "contents = t.substitute(name='Mike', contents='How are you?')\n",
    "print(contents)"
   ]
  },
  {
   "cell_type": "code",
   "execution_count": 45,
   "metadata": {
    "tags": []
   },
   "outputs": [
    {
     "output_type": "stream",
     "name": "stdout",
     "text": "Hi Mike.\n\nHow are you?\n\nHave a good day\n"
    }
   ],
   "source": [
    "import string\n",
    "\n",
    "\n",
    "with open('design/emailTemplate.txt') as f:\n",
    "    t = string.Template(f.read())\n",
    "\n",
    "contents = t.substitute(name='Mike', contents='How are you?')\n",
    "print(contents)"
   ]
  },
  {
   "cell_type": "markdown",
   "metadata": {},
   "source": [
    "97.csvファイルへの書き込みと読み込み"
   ]
  },
  {
   "cell_type": "code",
   "execution_count": 50,
   "metadata": {},
   "outputs": [],
   "source": [
    "import csv\n",
    "\n",
    "with open('test.csv', 'w') as csv_file:\n",
    "    fieldnames = ['Name', 'Count']\n",
    "    writer = csv.DictWriter(csv_file, fieldnames=fieldnames)\n",
    "    writer.writeheader()\n",
    "    writer.writerow({'Name': 'A', 'Count': 1})\n",
    "    writer.writerow({'Name': 'B', 'Count': 2})"
   ]
  },
  {
   "cell_type": "code",
   "execution_count": 51,
   "metadata": {
    "tags": []
   },
   "outputs": [
    {
     "output_type": "stream",
     "name": "stdout",
     "text": "A 1\nB 2\n"
    }
   ],
   "source": [
    "import csv\n",
    "\n",
    "with open('test.csv', 'r') as csv_file:\n",
    "    reader = csv.DictReader(csv_file)\n",
    "    for row in reader:\n",
    "        print(row['Name'], row['Count'])\n"
   ]
  },
  {
   "cell_type": "markdown",
   "metadata": {},
   "source": [
    "98.ファイル操作"
   ]
  },
  {
   "cell_type": "code",
   "execution_count": 78,
   "metadata": {
    "tags": []
   },
   "outputs": [],
   "source": [
    "import os\n",
    "import pathlib\n",
    "import glob\n",
    "import shutil\n",
    "\n",
    "# ファイル操作なら上記の四つの名前を起点に調べよう\n",
    "\n",
    "# os.path.exists('test.txt') #ファイルは存在するか\n",
    "# print(os.path.isfile('test.txt')) #ファイルかどうか\n",
    "# print(os.path.isdir('design')) #ディレクトリかどうか\n",
    "\n",
    "# os.rename('test.txt', 'renamed.txt') #名前の書き換え\n",
    "\n",
    "# os.symlink('renamed.txt', 'symlink2.txt') \n",
    "# 相互に内容の変更が反映される\n",
    "\n",
    "# ディレクトリの作成、削除\n",
    "# os.mkdir('test_dir')\n",
    "# os.rmdir('test_dir')\n",
    "\n",
    "# からファイルの作成\n",
    "# pathlib.Path('empty.txt').touch()\n",
    "# os.remove('empty.txt')\n",
    "\n",
    "# os.mkdir('test_dir')\n",
    "# os.mkdir('test_dir/test_dir2')\n",
    "# print(os.listdir('test_dir'))\n",
    "\n",
    "# pathlib.Path('test_dir/test_dir2/empty.txt').touch()\n",
    "# print(glob.glob('test_dir/test_dir2/*')) #ディレクトリの中のファイル名を取り出す\n",
    "\n",
    "# shutil.copy(\n",
    "#     'test_dir/test_dir2/empty.txt',\n",
    "#     'test_dir/test_dir2/empty2.txt'\n",
    "# )\n",
    "# print(glob.glob('test_dir/test_dir2/*'))\n",
    "\n",
    "# os.rmdirは中が空の時だけ使える\n",
    "# ディレクトリの中身に関わらず削除 これを使うには注意が必要\n",
    "# shutil.rmtree('test_dir') \n",
    "\n",
    "# print(os.getcwd()) #現在のディレクトリを取得"
   ]
  },
  {
   "cell_type": "markdown",
   "metadata": {},
   "source": [
    "99.tarfileの圧縮展開\n"
   ]
  },
  {
   "cell_type": "code",
   "execution_count": 81,
   "metadata": {},
   "outputs": [],
   "source": [
    "import os\n",
    "import pathlib\n",
    "\n",
    "os.mkdir('test_dir')\n",
    "pathlib.Path('test_dir/test.txt').touch()\n",
    "with open('test_dir/test.txt', 'w') as f:\n",
    "    f.write('test')\n",
    "\n",
    "os.mkdir('test_dir/test_dir2')\n",
    "pathlib.Path('test_dir/test_dir2/sub_test.txt').touch()\n",
    "with open('test_dir/test_dir2/sub_test.txt', 'w') as f:\n",
    "    f.write('sub')\n",
    "\n"
   ]
  },
  {
   "cell_type": "code",
   "execution_count": 82,
   "metadata": {},
   "outputs": [],
   "source": [
    "import tarfile\n",
    "\n",
    "# 圧縮\n",
    "with tarfile.open('test.tar.gz', 'w:gz') as tr:\n",
    "    tr.add('test_dir')\n"
   ]
  },
  {
   "cell_type": "code",
   "execution_count": 83,
   "metadata": {},
   "outputs": [],
   "source": [
    "# 展開\n",
    "with tarfile.open('test.tar.gz', 'r:gz') as tr:\n",
    "    tr.extractall(path='test_tar')"
   ]
  },
  {
   "cell_type": "code",
   "execution_count": 86,
   "metadata": {
    "tags": []
   },
   "outputs": [
    {
     "output_type": "stream",
     "name": "stdout",
     "text": "b'sub'\n"
    }
   ],
   "source": [
    "# 指定したファイルのみ展開\n",
    "with tarfile.open('test.tar.gz', 'r:gz') as tr:\n",
    "    with tr.extractfile('test_dir/test_dir2/sub_test.txt') as f:\n",
    "        print(f.read())"
   ]
  },
  {
   "cell_type": "markdown",
   "metadata": {},
   "source": [
    "100.zipfileの展開"
   ]
  },
  {
   "cell_type": "code",
   "execution_count": 89,
   "metadata": {},
   "outputs": [],
   "source": [
    "import zipfile\n",
    "\n",
    "with zipfile.ZipFile('test.zip', 'w') as z:\n",
    "    z.write('test_dir')\n",
    "    z.write('test_dir/test.txt')\n",
    "\n",
    "# macTerminal: unzip test.zip -d zzz"
   ]
  },
  {
   "cell_type": "code",
   "execution_count": 90,
   "metadata": {
    "tags": []
   },
   "outputs": [
    {
     "output_type": "stream",
     "name": "stdout",
     "text": "test_dir/\ntest_dir/test.txt\ntest_dir/test_dir2\ntest_dir/test_dir2/sub_test.txt\n"
    }
   ],
   "source": [
    "\n",
    "# 指定ディレクトリ配下を全て入れる\n",
    "import glob\n",
    "\n",
    "with zipfile.ZipFile('test.zip', 'w') as z:\n",
    "    for f in glob.glob('test_dir/**', recursive=True):\n",
    "        # **でディレクトリ配下を全てをrecursiveにみていく\n",
    "        print(f)\n",
    "        z.write(f)"
   ]
  },
  {
   "cell_type": "code",
   "execution_count": 91,
   "metadata": {},
   "outputs": [],
   "source": [
    "with zipfile.ZipFile('test.zip', 'r') as z:\n",
    "    z.extractall('test_dir')"
   ]
  },
  {
   "cell_type": "code",
   "execution_count": 93,
   "metadata": {
    "tags": []
   },
   "outputs": [
    {
     "output_type": "stream",
     "name": "stdout",
     "text": "b'test'\n"
    }
   ],
   "source": [
    "with zipfile.ZipFile('test.zip', 'r') as z:\n",
    "    with z.open('test_dir/test.txt') as f:\n",
    "        print(f.read()) "
   ]
  },
  {
   "cell_type": "markdown",
   "metadata": {},
   "source": [
    "100.tmpfile\n"
   ]
  },
  {
   "cell_type": "code",
   "execution_count": 98,
   "metadata": {
    "tags": []
   },
   "outputs": [
    {
     "output_type": "stream",
     "name": "stdout",
     "text": "hello\n"
    }
   ],
   "source": [
    "import tempfile\n",
    "\n",
    "# pythonがioバッファの上で作ってくれるから使い終わったら消してくれる\n",
    "\n",
    "with tempfile.TemporaryFile(mode='w+') as t:\n",
    "    t.write('hello')\n",
    "    t.seek(0)\n",
    "    print(t.read())\n"
   ]
  },
  {
   "cell_type": "code",
   "execution_count": 99,
   "metadata": {
    "tags": []
   },
   "outputs": [
    {
     "output_type": "stream",
     "name": "stdout",
     "text": "/var/folders/1f/10qx6fxj0fx3130lfk_0149w0000gn/T/tmpnqe8kboj\ntets\n"
    }
   ],
   "source": [
    "# tempfileを消去せずに書き出す\n",
    "# with tempfile.NamedTemporaryFile(delete=False) as t:\n",
    "#     print(t.name)\n",
    "#     with open(t.name, 'w+') as f:\n",
    "#         f.write('tets')\n",
    "#         f.seek(0)\n",
    "#         print(f.read())\n"
   ]
  },
  {
   "cell_type": "code",
   "execution_count": 101,
   "metadata": {
    "tags": []
   },
   "outputs": [
    {
     "output_type": "stream",
     "name": "stdout",
     "text": "/var/folders/1f/10qx6fxj0fx3130lfk_0149w0000gn/T/tmp14zhouk0\n"
    }
   ],
   "source": [
    "# ディレクトリ\n",
    "with tempfile.TemporaryDirectory() as td:\n",
    "    print(td)# 最後に全部消去"
   ]
  },
  {
   "cell_type": "code",
   "execution_count": 102,
   "metadata": {
    "tags": []
   },
   "outputs": [
    {
     "output_type": "stream",
     "name": "stdout",
     "text": "/var/folders/1f/10qx6fxj0fx3130lfk_0149w0000gn/T/tmp4j07o8qk\n"
    }
   ],
   "source": [
    "# tmp_dir = tempfile.mkdtemp()\n",
    "# print(tmp_dir)"
   ]
  },
  {
   "cell_type": "markdown",
   "metadata": {},
   "source": [
    "102.subprocessでコマンド実行"
   ]
  },
  {
   "cell_type": "code",
   "execution_count": 110,
   "metadata": {
    "tags": []
   },
   "outputs": [
    {
     "output_type": "stream",
     "name": "stdout",
     "text": "CompletedProcess(args='ls | grep test', returncode=0)\n"
    }
   ],
   "source": [
    "import subprocess\n",
    "\n",
    "# subprocess.run(['ls'])\n",
    "subprocess.run('ls | grep test', shell=True)\n",
    "# そのままshellにコマンドを渡すのでパイプも使える\n",
    "# しかし、シェルインジェクショが考えられるのでshell=Trueは推奨されない"
   ]
  },
  {
   "cell_type": "code",
   "execution_count": 113,
   "metadata": {
    "tags": []
   },
   "outputs": [
    {
     "output_type": "stream",
     "name": "stdout",
     "text": "b'-rw-r--r--   1 apple  staff     22 Aug 30 10:18 test,csv\\n-rw-r--r--   1 apple  staff     22 Aug 30 10:19 test.csv\\n-rw-r--r--   1 apple  staff    206 Aug 30 10:38 test.tar.gz\\n-rw-r--r--   1 apple  staff    485 Aug 30 10:45 test.zip\\n-rw-r--r--   1 apple  staff      5 Aug 30 09:57 test2.txt\\n-rw-r--r--   1 apple  staff     21 Aug 30 09:59 test3.txt\\ndrwxr-xr-x   5 apple  staff    160 Aug 30 10:46 test_dir\\ndrwxr-xr-x   3 apple  staff     96 Aug 30 10:39 test_tar\\n'\n"
    }
   ],
   "source": [
    "\n",
    "# PIPE処理を行いたい場合\n",
    "p1 = subprocess.Popen(['ls', '-al'], stdout=subprocess.PIPE)\n",
    "p2 = subprocess.Popen(['grep', 'test'], \n",
    "                        stdin=p1.stdout, \n",
    "                        stdout=subprocess.PIPE)\n",
    "p1.stdout.close()\n",
    "output = p2.communicate()[0]\n",
    "print(output)\n"
   ]
  },
  {
   "cell_type": "markdown",
   "metadata": {},
   "source": [
    "102.datetime\n"
   ]
  },
  {
   "cell_type": "code",
   "execution_count": 115,
   "metadata": {
    "tags": []
   },
   "outputs": [
    {
     "output_type": "stream",
     "name": "stdout",
     "text": "2020-08-30 11:03:42.401540\n2020-08-30T11:03:42.401540\n30/08/20-110342401540\n"
    }
   ],
   "source": [
    "import datetime\n",
    "\n",
    "now = datetime.datetime.now()\n",
    "print(now)\n",
    "\n",
    "print(now.isoformat())\n",
    "print(now.strftime('%d/%m/%y-%H%M%S%f'))"
   ]
  },
  {
   "cell_type": "code",
   "execution_count": 118,
   "metadata": {
    "tags": []
   },
   "outputs": [
    {
     "output_type": "stream",
     "name": "stdout",
     "text": "2020-08-30\n2020-08-30\n30/08/20\n"
    }
   ],
   "source": [
    "today = datetime.date.today()\n",
    "print(today)\n",
    "print(today.isoformat())\n",
    "print(today.strftime('%d/%m/%y'))"
   ]
  },
  {
   "cell_type": "code",
   "execution_count": 122,
   "metadata": {
    "tags": []
   },
   "outputs": [
    {
     "output_type": "stream",
     "name": "stdout",
     "text": "01:10:05.000100\n01:10:05.000100\n01_10_05_000100\n"
    }
   ],
   "source": [
    "t = datetime.time(hour=1, minute=10, second=5, microsecond=100)\n",
    "print(t)\n",
    "print(t.isoformat())\n",
    "print(t.strftime('%H_%M_%S_%f'))"
   ]
  },
  {
   "cell_type": "code",
   "execution_count": 132,
   "metadata": {
    "tags": []
   },
   "outputs": [
    {
     "output_type": "stream",
     "name": "stdout",
     "text": "2020-08-30 11:03:42.401540\n2020-08-23 11:03:42.401540\n2019-08-31 11:03:42.401540\n"
    }
   ],
   "source": [
    "print(now) #2020-08-30 11:03:42.401540\n",
    "d = datetime.timedelta(weeks=1)\n",
    "print(now - d)\n",
    "d2 = datetime.timedelta(days=365)\n",
    "print(now - d2)"
   ]
  },
  {
   "cell_type": "code",
   "execution_count": 135,
   "metadata": {
    "tags": []
   },
   "outputs": [
    {
     "output_type": "stream",
     "name": "stdout",
     "text": "1598753318.17104\n"
    }
   ],
   "source": [
    "import time\n",
    "\n",
    "# print('###')\n",
    "# time.sleep(3)\n",
    "# print('###')\n",
    "\n",
    "#epoch time\n",
    "print(time.time())"
   ]
  },
  {
   "cell_type": "code",
   "execution_count": 137,
   "metadata": {},
   "outputs": [],
   "source": [
    "# バックアップ\n",
    "\n",
    "import os\n",
    "import shutil\n",
    "\n",
    "file_name = 'tes.txt'\n",
    "\n",
    "if os.path.exists(file_name):\n",
    "    shutil.copy(file_name, \n",
    "    \"{}.{}\".format(file_name, now.strftime('%Y%m%d_%H_%M_%S')))\n",
    "\n",
    "with open(file_name, 'w') as f:\n",
    "    f.write('test')\n"
   ]
  },
  {
   "cell_type": "code",
   "execution_count": null,
   "metadata": {},
   "outputs": [],
   "source": []
  }
 ]
}